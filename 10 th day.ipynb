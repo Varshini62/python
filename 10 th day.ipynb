{
 "cells": [
  {
   "cell_type": "markdown",
   "metadata": {},
   "source": [
    "### Standard Librares\n",
    "- file l\\o\n",
    "- Regular Expression\n",
    "- Datetime\n",
    "- Math(numerical and Mathematical)"
   ]
  },
  {
   "cell_type": "markdown",
   "metadata": {},
   "source": [
    "### File Handiling in Python\n",
    "- File:-Document Contaning information resides on the peremenent storage\n",
    "- Different types of files:-txt,doc,pdf,csv and etc ....\n",
    "- Input -- Keyboard\n",
    "- Output -- File  \n",
    "### Modes of the file l/0\n",
    "- 'W' -- This mode is used to file writing\n",
    "      -- if the file is not present first it creates the file and write to me data to it\n",
    "      -- if the file is already present then it will rewrite the previous content"
   ]
  },
  {
   "cell_type": "code",
   "execution_count": 1,
   "metadata": {},
   "outputs": [
    {
     "name": "stdout",
     "output_type": "stream",
     "text": [
      "file is created and data has written\n"
     ]
    }
   ],
   "source": [
    "# function to create a file and write to the file\n",
    "def createFile(filename):\n",
    "    f = open(filename,'w')\n",
    "    for i in range(10):\n",
    "        f.write('this is %d line ' % i)\n",
    "    print(\"file is created and data has written\")\n",
    "    return\n",
    "createFile('file.txt')"
   ]
  },
  {
   "cell_type": "code",
   "execution_count": 2,
   "metadata": {},
   "outputs": [
    {
     "name": "stdout",
     "output_type": "stream",
     "text": [
      " Volume in drive C has no label.\n",
      " Volume Serial Number is 246C-FD32\n",
      "\n",
      " Directory of C:\\Users\\student\n",
      "\n",
      "11-07-2019  09:15    <DIR>          .\n",
      "11-07-2019  09:15    <DIR>          ..\n",
      "21-06-2019  12:13    <DIR>          .anaconda\n",
      "25-06-2019  15:06                35 .bash_history\n",
      "25-06-2019  16:59    <DIR>          .conda\n",
      "25-06-2019  16:59                43 .condarc\n",
      "29-06-2019  10:37    <DIR>          .idlerc\n",
      "11-07-2019  09:03    <DIR>          .ipynb_checkpoints\n",
      "22-06-2019  12:37    <DIR>          .ipython\n",
      "24-06-2019  14:21    <DIR>          .jupyter\n",
      "28-06-2019  15:27    <DIR>          .matplotlib\n",
      "09-07-2019  16:29            11,973 9th day.ipynb\n",
      "21-06-2019  11:47    <DIR>          Anaconda3\n",
      "21-06-2019  16:10    <DIR>          Contacts\n",
      "10-07-2019  10:22             8,303 day 9 10th july.ipynb\n",
      "10-07-2019  16:19            18,536 day 9.ipynb\n",
      "10-07-2019  15:26    <DIR>          Desktop\n",
      "10-07-2019  16:50    <DIR>          Documents\n",
      "10-07-2019  16:45    <DIR>          Downloads\n",
      "21-06-2019  16:10    <DIR>          Favorites\n",
      "11-07-2019  09:15               150 file.txt\n",
      "27-06-2019  10:37               260 file1.txt\n",
      "21-06-2019  16:10    <DIR>          Links\n",
      "21-06-2019  16:10    <DIR>          Music\n",
      "21-06-2019  16:10    <DIR>          Pictures\n",
      "06-07-2019  12:13    <DIR>          Python\n",
      "21-06-2019  16:10    <DIR>          Saved Games\n",
      "21-06-2019  16:10    <DIR>          Searches\n",
      "10-07-2019  10:41            11,973 Untitled.ipynb\n",
      "09-07-2019  14:08                72 Untitled1.ipynb\n",
      "10-07-2019  09:00                72 Untitled2.ipynb\n",
      "10-07-2019  16:36             2,914 Untitled3.ipynb\n",
      "11-07-2019  09:03                72 Untitled4.ipynb\n",
      "11-07-2019  09:15             1,617 Untitled5.ipynb\n",
      "21-06-2019  16:10    <DIR>          Videos\n",
      "              13 File(s)         56,020 bytes\n",
      "              22 Dir(s)  58,536,767,488 bytes free\n"
     ]
    }
   ],
   "source": [
    "ls"
   ]
  },
  {
   "cell_type": "code",
   "execution_count": 3,
   "metadata": {},
   "outputs": [
    {
     "name": "stdout",
     "output_type": "stream",
     "text": [
      "this is 0 line\n",
      "\n",
      "this is 1 line\n",
      "\n",
      "this is 2 line\n",
      "\n",
      "this is 3 line\n",
      "\n",
      "this is 4 line\n",
      "\n",
      "this is 5 line\n",
      "\n",
      "this is 6 line\n",
      "\n",
      "this is 7 line\n",
      "\n",
      "this is 8 line\n",
      "\n",
      "this is 9 line\n",
      "\n",
      "file created and succesfully data written\n"
     ]
    }
   ],
   "source": [
    "def appendData(filename):\n",
    "   f = open(filename,'a')\n",
    "   for i in range(10):\n",
    "       print(\"this is %d line\\n\" % i)\n",
    "   print(\"file created and succesfully data written\")\n",
    "   return\n",
    "appendData('file2.txt')"
   ]
  },
  {
   "cell_type": "code",
   "execution_count": 4,
   "metadata": {},
   "outputs": [
    {
     "name": "stdout",
     "output_type": "stream",
     "text": [
      "file created and succesfully data written\n"
     ]
    }
   ],
   "source": [
    "def appendData(filename):\n",
    "   f = open(filename,'a')\n",
    "   f.write(\"New line 1 \\n\")\n",
    "   f.write(\"New line 2 \\n\")\n",
    "   print(\"file created and succesfully data written\")\n",
    "   return\n",
    "appendData('file2.txt')"
   ]
  },
  {
   "cell_type": "code",
   "execution_count": 5,
   "metadata": {},
   "outputs": [
    {
     "name": "stdout",
     "output_type": "stream",
     "text": [
      "New line 1 \n",
      "New line 2 \n",
      "\n"
     ]
    }
   ],
   "source": [
    "# Function to read of the file\n",
    "def readFileData(filename):\n",
    "    f = open(filename,'r')\n",
    "    if f.mode == 'r':\n",
    "        x = f.read()\n",
    "        print(x)\n",
    "    f.close()\n",
    "    return\n",
    "readFileData('file2.txt')"
   ]
  },
  {
   "cell_type": "code",
   "execution_count": 2,
   "metadata": {},
   "outputs": [
    {
     "name": "stdout",
     "output_type": "stream",
     "text": [
      "Enter the file namefile1.txt\n",
      "Enter the mode of the filea\n",
      "the data successfully written\n"
     ]
    }
   ],
   "source": [
    "# Function to read the file\n",
    "def fileOperations(filename,mode):\n",
    "    with open(filename,mode) as f:\n",
    "        if f.mode == 'r':\n",
    "            data = f.read()\n",
    "            print(data)\n",
    "        elif f.mode == 'a':\n",
    "            f.write('Data to the file')\n",
    "            print('the data successfully written')\n",
    "    f.close()\n",
    "    return\n",
    "filename = input('Enter the file name')\n",
    "mode = input('Enter the mode of the file')\n",
    "fileOperations(filename,mode)\n",
    "    "
   ]
  },
  {
   "cell_type": "code",
   "execution_count": 8,
   "metadata": {},
   "outputs": [
    {
     "name": "stdout",
     "output_type": "stream",
     "text": [
      "Enter the file name:file2.txt\n",
      "Enter the word :this\n"
     ]
    },
    {
     "data": {
      "text/plain": [
       "0"
      ]
     },
     "execution_count": 8,
     "metadata": {},
     "output_type": "execute_result"
    }
   ],
   "source": [
    "# Data Analysis\n",
    "# Word Count Program\n",
    "def wordCount(filename,word):\n",
    "    with open(filename,'r') as f:\n",
    "        if f.mode == 'r':\n",
    "            x = f.read()\n",
    "            li = x.split() # It's splits the string with  \n",
    "    cnt = li.count(word)\n",
    "    return cnt\n",
    "filename = input('Enter the file name:')\n",
    "word = input('Enter the word :') # which word count you need\n",
    "wordCount(filename,word)"
   ]
  },
  {
   "cell_type": "code",
   "execution_count": 9,
   "metadata": {},
   "outputs": [
    {
     "name": "stdout",
     "output_type": "stream",
     "text": [
      "Enter the filename :file2.txt\n"
     ]
    },
    {
     "data": {
      "text/plain": [
       "24"
      ]
     },
     "execution_count": 9,
     "metadata": {},
     "output_type": "execute_result"
    }
   ],
   "source": [
    "# character count from the given file\n",
    "def charCount(filename):\n",
    "    with open(filename,'r')as f:\n",
    "        if f.mode == 'r':\n",
    "            x = f.read()\n",
    "            li = list(x)# Convert the string - char\n",
    "    return len(li)\n",
    "filename = input('Enter the filename :')\n",
    "charCount(filename)"
   ]
  },
  {
   "cell_type": "code",
   "execution_count": 10,
   "metadata": {},
   "outputs": [
    {
     "name": "stdout",
     "output_type": "stream",
     "text": [
      "['Python Progr', 'mming']\n"
     ]
    }
   ],
   "source": [
    "s1 = \"Python Programming\"\n",
    "print(s1.split('a'))"
   ]
  },
  {
   "cell_type": "code",
   "execution_count": 12,
   "metadata": {},
   "outputs": [
    {
     "name": "stdout",
     "output_type": "stream",
     "text": [
      "Enter the filenamefile2.txt\n"
     ]
    },
    {
     "data": {
      "text/plain": [
       "3"
      ]
     },
     "execution_count": 12,
     "metadata": {},
     "output_type": "execute_result"
    }
   ],
   "source": [
    "# Function to find the no of lines in the input file\n",
    "# Input -- filename(file2.txt)\n",
    "# Output -- no of lines(12)\n",
    "def countOfLines(filename):\n",
    "    with open(filename,'r')as f:\n",
    "        if f.mode == 'r':\n",
    "            x = f.read()\n",
    "            li = x.split(\"\\n\")\n",
    "    return len(li)\n",
    "filename = input('Enter the filename')\n",
    "countOfLines(filename)"
   ]
  },
  {
   "cell_type": "code",
   "execution_count": 32,
   "metadata": {},
   "outputs": [
    {
     "name": "stdout",
     "output_type": "stream",
     "text": [
      "Enter the filename :file2.txt\n"
     ]
    },
    {
     "data": {
      "text/plain": [
       "'Upper case = 2,Lower Case = 12'"
      ]
     },
     "execution_count": 32,
     "metadata": {},
     "output_type": "execute_result"
    }
   ],
   "source": [
    "# Function to print the uppertr and Lower charecters\n",
    "def caseCount(filename):\n",
    "    cntUpper = 0\n",
    "    cntLower = 0\n",
    "    with open(filename,'r') as f:\n",
    "              if f.mode == 'r':\n",
    "                x = f.read()\n",
    "                li = list(x)\n",
    "    for i in li:\n",
    "        if i.isupper():\n",
    "            cntUpper += 1 # cntUpper = cntUpper + 1\n",
    "        elif i.islower():\n",
    "            cntLower += 1 # cntLower = cntLower + 1\n",
    "    output = 'Upper case = {0},Lower Case = {1}'.format(cntUpper,cntLower)\n",
    "    return output\n",
    "filename = input('Enter the filename :')\n",
    "caseCount(filename)"
   ]
  },
  {
   "cell_type": "markdown",
   "metadata": {},
   "source": [
    "### math,random,os¶\n",
    "os package it contains the certain methods which works with os\n"
   ]
  },
  {
   "cell_type": "code",
   "execution_count": 34,
   "metadata": {},
   "outputs": [
    {
     "name": "stdout",
     "output_type": "stream",
     "text": [
      "C:\\Users\\student\n"
     ]
    }
   ],
   "source": [
    "cd ...."
   ]
  },
  {
   "cell_type": "code",
   "execution_count": 35,
   "metadata": {},
   "outputs": [
    {
     "name": "stdout",
     "output_type": "stream",
     "text": [
      " Volume in drive C has no label.\n",
      " Volume Serial Number is 246C-FD32\n",
      "\n",
      " Directory of C:\\Users\\student\n",
      "\n",
      "11-07-2019  12:19    <DIR>          .\n",
      "11-07-2019  12:19    <DIR>          ..\n",
      "21-06-2019  12:13    <DIR>          .anaconda\n",
      "25-06-2019  15:06                35 .bash_history\n",
      "25-06-2019  16:59    <DIR>          .conda\n",
      "25-06-2019  16:59                43 .condarc\n",
      "29-06-2019  10:37    <DIR>          .idlerc\n",
      "11-07-2019  09:03    <DIR>          .ipynb_checkpoints\n",
      "22-06-2019  12:37    <DIR>          .ipython\n",
      "24-06-2019  14:21    <DIR>          .jupyter\n",
      "28-06-2019  15:27    <DIR>          .matplotlib\n",
      "09-07-2019  16:29            11,973 9th day.ipynb\n",
      "21-06-2019  11:47    <DIR>          Anaconda3\n",
      "21-06-2019  16:10    <DIR>          Contacts\n",
      "10-07-2019  10:22             8,303 day 9 10th july.ipynb\n",
      "10-07-2019  16:19            18,536 day 9.ipynb\n",
      "10-07-2019  15:26    <DIR>          Desktop\n",
      "10-07-2019  16:50    <DIR>          Documents\n",
      "10-07-2019  16:45    <DIR>          Downloads\n",
      "21-06-2019  16:10    <DIR>          Favorites\n",
      "11-07-2019  09:15               150 file.txt\n",
      "11-07-2019  10:09               276 file1.txt\n",
      "11-07-2019  09:49                26 file2.txt\n",
      "21-06-2019  16:10    <DIR>          Links\n",
      "21-06-2019  16:10    <DIR>          Music\n",
      "21-06-2019  16:10    <DIR>          Pictures\n",
      "06-07-2019  12:13    <DIR>          Python\n",
      "21-06-2019  16:10    <DIR>          Saved Games\n",
      "21-06-2019  16:10    <DIR>          Searches\n",
      "10-07-2019  10:41            11,973 Untitled.ipynb\n",
      "09-07-2019  14:08                72 Untitled1.ipynb\n",
      "10-07-2019  09:00                72 Untitled2.ipynb\n",
      "10-07-2019  16:36             2,914 Untitled3.ipynb\n",
      "11-07-2019  09:03                72 Untitled4.ipynb\n",
      "11-07-2019  12:19            11,481 Untitled5.ipynb\n",
      "21-06-2019  16:10    <DIR>          Videos\n",
      "              14 File(s)         65,926 bytes\n",
      "              22 Dir(s)  57,552,146,432 bytes free\n"
     ]
    }
   ],
   "source": [
    "ls"
   ]
  },
  {
   "cell_type": "code",
   "execution_count": 38,
   "metadata": {},
   "outputs": [
    {
     "ename": "ImportError",
     "evalue": "cannot import name 'path' from 'pathlib' (C:\\addons\\lib\\pathlib.py)",
     "output_type": "error",
     "traceback": [
      "\u001b[1;31m---------------------------------------------------------------------------\u001b[0m",
      "\u001b[1;31mImportError\u001b[0m                               Traceback (most recent call last)",
      "\u001b[1;32m<ipython-input-38-236edee9d3e1>\u001b[0m in \u001b[0;36m<module>\u001b[1;34m\u001b[0m\n\u001b[1;32m----> 1\u001b[1;33m \u001b[1;32mfrom\u001b[0m \u001b[0mpathlib\u001b[0m \u001b[1;32mimport\u001b[0m \u001b[0mpath\u001b[0m\u001b[1;33m\u001b[0m\u001b[1;33m\u001b[0m\u001b[0m\n\u001b[0m\u001b[0;32m      2\u001b[0m \u001b[0mli\u001b[0m \u001b[1;33m=\u001b[0m \u001b[0mpath\u001b[0m\u001b[1;33m(\u001b[0m\u001b[1;34m'file2/'\u001b[0m\u001b[1;33m)\u001b[0m\u001b[1;33m\u001b[0m\u001b[1;33m\u001b[0m\u001b[0m\n\u001b[0;32m      3\u001b[0m \u001b[1;32mfor\u001b[0m \u001b[0mi\u001b[0m \u001b[1;32min\u001b[0m \u001b[0mli\u001b[0m\u001b[1;33m.\u001b[0m\u001b[0miterdir\u001b[0m\u001b[1;33m(\u001b[0m\u001b[1;33m)\u001b[0m\u001b[1;33m:\u001b[0m\u001b[1;33m\u001b[0m\u001b[1;33m\u001b[0m\u001b[0m\n\u001b[0;32m      4\u001b[0m     \u001b[0mprint\u001b[0m\u001b[1;33m(\u001b[0m\u001b[0mi\u001b[0m\u001b[1;33m)\u001b[0m\u001b[1;33m\u001b[0m\u001b[1;33m\u001b[0m\u001b[0m\n",
      "\u001b[1;31mImportError\u001b[0m: cannot import name 'path' from 'pathlib' (C:\\addons\\lib\\pathlib.py)"
     ]
    }
   ],
   "source": [
    "from pathlib import path\n",
    "li = path('file2/')\n",
    "for i in li.iterdir():\n",
    "    print(i)"
   ]
  },
  {
   "cell_type": "code",
   "execution_count": 1,
   "metadata": {},
   "outputs": [
    {
     "name": "stdout",
     "output_type": "stream",
     "text": [
      " Volume in drive C has no label.\n",
      " Volume Serial Number is 246C-FD32\n",
      "\n",
      " Directory of C:\\Users\\student\n",
      "\n",
      "11-07-2019  14:07    <DIR>          .\n",
      "11-07-2019  14:07    <DIR>          ..\n",
      "21-06-2019  12:13    <DIR>          .anaconda\n",
      "25-06-2019  15:06                35 .bash_history\n",
      "25-06-2019  16:59    <DIR>          .conda\n",
      "25-06-2019  16:59                43 .condarc\n",
      "29-06-2019  10:37    <DIR>          .idlerc\n",
      "11-07-2019  09:03    <DIR>          .ipynb_checkpoints\n",
      "22-06-2019  12:37    <DIR>          .ipython\n",
      "24-06-2019  14:21    <DIR>          .jupyter\n",
      "28-06-2019  15:27    <DIR>          .matplotlib\n",
      "09-07-2019  16:29            11,973 9th day.ipynb\n",
      "21-06-2019  11:47    <DIR>          Anaconda3\n",
      "21-06-2019  16:10    <DIR>          Contacts\n",
      "10-07-2019  10:22             8,303 day 9 10th july.ipynb\n",
      "10-07-2019  16:19            18,536 day 9.ipynb\n",
      "10-07-2019  15:26    <DIR>          Desktop\n",
      "10-07-2019  16:50    <DIR>          Documents\n",
      "10-07-2019  16:45    <DIR>          Downloads\n",
      "21-06-2019  16:10    <DIR>          Favorites\n",
      "11-07-2019  09:15               150 file.txt\n",
      "11-07-2019  10:09               276 file1.txt\n",
      "11-07-2019  09:49                26 file2.txt\n",
      "21-06-2019  16:10    <DIR>          Links\n",
      "21-06-2019  16:10    <DIR>          Music\n",
      "21-06-2019  16:10    <DIR>          Pictures\n",
      "06-07-2019  12:13    <DIR>          Python\n",
      "21-06-2019  16:10    <DIR>          Saved Games\n",
      "21-06-2019  16:10    <DIR>          Searches\n",
      "10-07-2019  10:41            11,973 Untitled.ipynb\n",
      "09-07-2019  14:08                72 Untitled1.ipynb\n",
      "10-07-2019  09:00                72 Untitled2.ipynb\n",
      "10-07-2019  16:36             2,914 Untitled3.ipynb\n",
      "11-07-2019  09:03                72 Untitled4.ipynb\n",
      "11-07-2019  14:07            16,183 Untitled5.ipynb\n",
      "21-06-2019  16:10    <DIR>          Videos\n",
      "              14 File(s)         70,628 bytes\n",
      "              22 Dir(s)  57,555,210,240 bytes free\n"
     ]
    }
   ],
   "source": [
    "ls"
   ]
  },
  {
   "cell_type": "code",
   "execution_count": 2,
   "metadata": {},
   "outputs": [],
   "source": [
    "import os\n",
    "os.makedirs('2019/july/11')"
   ]
  },
  {
   "cell_type": "code",
   "execution_count": 3,
   "metadata": {},
   "outputs": [
    {
     "name": "stdout",
     "output_type": "stream",
     "text": [
      " Volume in drive C has no label.\n",
      " Volume Serial Number is 246C-FD32\n",
      "\n",
      " Directory of C:\\Users\\student\n",
      "\n",
      "11-07-2019  14:46    <DIR>          .\n",
      "11-07-2019  14:46    <DIR>          ..\n",
      "21-06-2019  12:13    <DIR>          .anaconda\n",
      "25-06-2019  15:06                35 .bash_history\n",
      "25-06-2019  16:59    <DIR>          .conda\n",
      "25-06-2019  16:59                43 .condarc\n",
      "29-06-2019  10:37    <DIR>          .idlerc\n",
      "11-07-2019  09:03    <DIR>          .ipynb_checkpoints\n",
      "22-06-2019  12:37    <DIR>          .ipython\n",
      "24-06-2019  14:21    <DIR>          .jupyter\n",
      "28-06-2019  15:27    <DIR>          .matplotlib\n",
      "11-07-2019  14:46    <DIR>          2019\n",
      "09-07-2019  16:29            11,973 9th day.ipynb\n",
      "21-06-2019  11:47    <DIR>          Anaconda3\n",
      "21-06-2019  16:10    <DIR>          Contacts\n",
      "10-07-2019  10:22             8,303 day 9 10th july.ipynb\n",
      "10-07-2019  16:19            18,536 day 9.ipynb\n",
      "10-07-2019  15:26    <DIR>          Desktop\n",
      "10-07-2019  16:50    <DIR>          Documents\n",
      "10-07-2019  16:45    <DIR>          Downloads\n",
      "21-06-2019  16:10    <DIR>          Favorites\n",
      "11-07-2019  09:15               150 file.txt\n",
      "11-07-2019  10:09               276 file1.txt\n",
      "11-07-2019  09:49                26 file2.txt\n",
      "21-06-2019  16:10    <DIR>          Links\n",
      "21-06-2019  16:10    <DIR>          Music\n",
      "21-06-2019  16:10    <DIR>          Pictures\n",
      "06-07-2019  12:13    <DIR>          Python\n",
      "21-06-2019  16:10    <DIR>          Saved Games\n",
      "21-06-2019  16:10    <DIR>          Searches\n",
      "10-07-2019  10:41            11,973 Untitled.ipynb\n",
      "09-07-2019  14:08                72 Untitled1.ipynb\n",
      "10-07-2019  09:00                72 Untitled2.ipynb\n",
      "10-07-2019  16:36             2,914 Untitled3.ipynb\n",
      "11-07-2019  09:03                72 Untitled4.ipynb\n",
      "11-07-2019  14:45            18,647 Untitled5.ipynb\n",
      "21-06-2019  16:10    <DIR>          Videos\n",
      "              14 File(s)         73,092 bytes\n",
      "              23 Dir(s)  57,554,690,048 bytes free\n"
     ]
    }
   ],
   "source": [
    "ls"
   ]
  },
  {
   "cell_type": "code",
   "execution_count": 5,
   "metadata": {},
   "outputs": [
    {
     "ename": "FileNotFoundError",
     "evalue": "[WinError 3] The system cannot find the path specified: 'Git/'",
     "output_type": "error",
     "traceback": [
      "\u001b[1;31m---------------------------------------------------------------------------\u001b[0m",
      "\u001b[1;31mFileNotFoundError\u001b[0m                         Traceback (most recent call last)",
      "\u001b[1;32m<ipython-input-5-157b1520f38f>\u001b[0m in \u001b[0;36m<module>\u001b[1;34m\u001b[0m\n\u001b[0;32m      1\u001b[0m \u001b[1;32mimport\u001b[0m \u001b[0mos\u001b[0m\u001b[1;33m\u001b[0m\u001b[1;33m\u001b[0m\u001b[0m\n\u001b[0;32m      2\u001b[0m \u001b[0mdirPath\u001b[0m \u001b[1;33m=\u001b[0m \u001b[1;34m'Git/'\u001b[0m\u001b[1;33m\u001b[0m\u001b[1;33m\u001b[0m\u001b[0m\n\u001b[1;32m----> 3\u001b[1;33m \u001b[1;32mfor\u001b[0m \u001b[0mf_name\u001b[0m \u001b[1;32min\u001b[0m \u001b[0mos\u001b[0m\u001b[1;33m.\u001b[0m\u001b[0mlistdir\u001b[0m\u001b[1;33m(\u001b[0m\u001b[0mdirPath\u001b[0m\u001b[1;33m)\u001b[0m\u001b[1;33m:\u001b[0m\u001b[1;33m\u001b[0m\u001b[1;33m\u001b[0m\u001b[0m\n\u001b[0m\u001b[0;32m      4\u001b[0m     \u001b[1;32mif\u001b[0m \u001b[0mf_name\u001b[0m\u001b[1;33m.\u001b[0m\u001b[0mendswitch\u001b[0m\u001b[1;33m(\u001b[0m\u001b[1;34m'.ipynb'\u001b[0m\u001b[1;33m)\u001b[0m\u001b[1;33m:\u001b[0m\u001b[1;33m\u001b[0m\u001b[1;33m\u001b[0m\u001b[0m\n\u001b[0;32m      5\u001b[0m         \u001b[0mprint\u001b[0m\u001b[1;33m(\u001b[0m\u001b[0mf_name\u001b[0m\u001b[1;33m)\u001b[0m\u001b[1;33m\u001b[0m\u001b[1;33m\u001b[0m\u001b[0m\n",
      "\u001b[1;31mFileNotFoundError\u001b[0m: [WinError 3] The system cannot find the path specified: 'Git/'"
     ]
    }
   ],
   "source": [
    "import os\n",
    "dirPath = 'Git/'\n",
    "for f_name in os.listdir(dirPath):\n",
    "    if f_name.endswitch('.ipynb'):\n",
    "        print(f_name)"
   ]
  },
  {
   "cell_type": "code",
   "execution_count": 6,
   "metadata": {},
   "outputs": [],
   "source": [
    "import os\n",
    "data_file = 'file.txt' # Give the entire path c:\\\\using\\\\l\n",
    "os.remove(data_file)"
   ]
  },
  {
   "cell_type": "code",
   "execution_count": 7,
   "metadata": {},
   "outputs": [
    {
     "name": "stdout",
     "output_type": "stream",
     "text": [
      " Volume in drive C has no label.\n",
      " Volume Serial Number is 246C-FD32\n",
      "\n",
      " Directory of C:\\Users\\student\n",
      "\n",
      "11-07-2019  15:03    <DIR>          .\n",
      "11-07-2019  15:03    <DIR>          ..\n",
      "21-06-2019  12:13    <DIR>          .anaconda\n",
      "25-06-2019  15:06                35 .bash_history\n",
      "25-06-2019  16:59    <DIR>          .conda\n",
      "25-06-2019  16:59                43 .condarc\n",
      "29-06-2019  10:37    <DIR>          .idlerc\n",
      "11-07-2019  09:03    <DIR>          .ipynb_checkpoints\n",
      "22-06-2019  12:37    <DIR>          .ipython\n",
      "24-06-2019  14:21    <DIR>          .jupyter\n",
      "28-06-2019  15:27    <DIR>          .matplotlib\n",
      "11-07-2019  14:46    <DIR>          2019\n",
      "09-07-2019  16:29            11,973 9th day.ipynb\n",
      "21-06-2019  11:47    <DIR>          Anaconda3\n",
      "21-06-2019  16:10    <DIR>          Contacts\n",
      "10-07-2019  10:22             8,303 day 9 10th july.ipynb\n",
      "10-07-2019  16:19            18,536 day 9.ipynb\n",
      "10-07-2019  15:26    <DIR>          Desktop\n",
      "10-07-2019  16:50    <DIR>          Documents\n",
      "10-07-2019  16:45    <DIR>          Downloads\n",
      "21-06-2019  16:10    <DIR>          Favorites\n",
      "11-07-2019  10:09               276 file1.txt\n",
      "11-07-2019  09:49                26 file2.txt\n",
      "21-06-2019  16:10    <DIR>          Links\n",
      "21-06-2019  16:10    <DIR>          Music\n",
      "21-06-2019  16:10    <DIR>          Pictures\n",
      "06-07-2019  12:13    <DIR>          Python\n",
      "21-06-2019  16:10    <DIR>          Saved Games\n",
      "21-06-2019  16:10    <DIR>          Searches\n",
      "10-07-2019  10:41            11,973 Untitled.ipynb\n",
      "09-07-2019  14:08                72 Untitled1.ipynb\n",
      "10-07-2019  09:00                72 Untitled2.ipynb\n",
      "10-07-2019  16:36             2,914 Untitled3.ipynb\n",
      "11-07-2019  09:03                72 Untitled4.ipynb\n",
      "11-07-2019  15:03            23,589 Untitled5.ipynb\n",
      "21-06-2019  16:10    <DIR>          Videos\n",
      "              13 File(s)         77,884 bytes\n",
      "              23 Dir(s)  57,553,911,808 bytes free\n"
     ]
    }
   ],
   "source": [
    "ls"
   ]
  },
  {
   "cell_type": "markdown",
   "metadata": {},
   "source": [
    "### Regular Expression\n",
    "- used to specific pattern matching\n",
    "- Symbolic notation of pattern\n",
    "    - Patterns(RE) represents set of the values"
   ]
  },
  {
   "cell_type": "code",
   "execution_count": null,
   "metadata": {},
   "outputs": [],
   "source": []
  }
 ],
 "metadata": {
  "kernelspec": {
   "display_name": "Python 3",
   "language": "python",
   "name": "python3"
  },
  "language_info": {
   "codemirror_mode": {
    "name": "ipython",
    "version": 3
   },
   "file_extension": ".py",
   "mimetype": "text/x-python",
   "name": "python",
   "nbconvert_exporter": "python",
   "pygments_lexer": "ipython3",
   "version": "3.7.3"
  }
 },
 "nbformat": 4,
 "nbformat_minor": 2
}
