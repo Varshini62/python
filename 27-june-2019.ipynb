{
 "cells": [
  {
   "cell_type": "code",
   "execution_count": 5,
   "metadata": {},
   "outputs": [
    {
     "name": "stdout",
     "output_type": "stream",
     "text": [
      "file is created succesfully and data has been written\n"
     ]
    }
   ],
   "source": [
    "##FILe HANDLING IN PYTHON\n",
    "##FUNCTION TO CREATE A FILE AND WRITE SOME DATA\n",
    "def createfile(filename):\n",
    "    f=open(filename,\"w\")\n",
    "    for i in range(10):\n",
    "        f.write(\"This is %d line\\n\" % i)\n",
    "    print(\"file is created succesfully and data has been written\")\n",
    "    f.close()    \n",
    "    return\n",
    "createfile(\"file1.txt\")"
   ]
  },
  {
   "cell_type": "code",
   "execution_count": 21,
   "metadata": {},
   "outputs": [
    {
     "name": "stdout",
     "output_type": "stream",
     "text": [
      "This is 0 line\n",
      "This is 1 line\n",
      "This is 2 line\n",
      "This is 3 line\n",
      "This is 4 line\n",
      "This is 5 line\n",
      "This is 6 line\n",
      "This is 7 line\n",
      "This is 8 line\n",
      "This is 9 line\n",
      "new line 1\n",
      "new linenew line 1\n",
      "new linenew line 1\n",
      "new lineNew line 1\n",
      "New line\n"
     ]
    }
   ],
   "source": [
    "##function for reading a file\n",
    "def readfile(filename):\n",
    "    f=open(filename,\"r\")\n",
    "    if f.mode==\"r\":\n",
    "        x=f.read()\n",
    "        print(x)\n",
    "    f.close()\n",
    "    return\n",
    "readfile(\"file1.txt\")"
   ]
  },
  {
   "cell_type": "code",
   "execution_count": 22,
   "metadata": {},
   "outputs": [],
   "source": [
    "##data to append\n",
    "#function to append the data to existing file\n",
    "def appenddata(filename):\n",
    "    f=open(filename,\"a\")\n",
    "    f.write(\"New line 1\\n\")\n",
    "    f.write(\"New line\")\n",
    "    return\n",
    "appenddata(\"file1.txt\")"
   ]
  },
  {
   "cell_type": "code",
   "execution_count": 30,
   "metadata": {},
   "outputs": [
    {
     "name": "stdout",
     "output_type": "stream",
     "text": [
      "0\n"
     ]
    }
   ],
   "source": [
    "def dataanalysiswordcount(filename,word):\n",
    "    f=open(filename,\"r\")\n",
    "    if f.mode==\"r\":\n",
    "        x=f.read()\n",
    "        lst=x.split()\n",
    "    count=lst.count(word)\n",
    "    return count\n",
    "print(dataanalysiswordcount(\"file1.txt\",\"rest\"))"
   ]
  },
  {
   "cell_type": "code",
   "execution_count": 79,
   "metadata": {},
   "outputs": [
    {
     "name": "stdout",
     "output_type": "stream",
     "text": [
      "245\n"
     ]
    }
   ],
   "source": [
    "#function to count of characters in the file\n",
    "def countofcharacter(filename):\n",
    "    f=open(filename,\"r\")\n",
    "    if f.mode==\"r\":\n",
    "        x=f.read()\n",
    "        lst=list(x)\n",
    "    return len(lst)\n",
    "print(countofcharacter(\"file1.txt\"))"
   ]
  },
  {
   "cell_type": "code",
   "execution_count": 80,
   "metadata": {},
   "outputs": [
    {
     "data": {
      "text/plain": [
       "1"
      ]
     },
     "execution_count": 80,
     "metadata": {},
     "output_type": "execute_result"
    }
   ],
   "source": [
    "#function to count the upper case character from the given file\n",
    "def uppercasecount(filename):\n",
    "    count=0\n",
    "    f=open(filename,\"r\")\n",
    "    if f.mode==\"r\": \n",
    "            x=f.read()\n",
    "            lst=list(x)\n",
    "    for i in lst:\n",
    "        if i.isupper():\n",
    "            count = count+1\n",
    "    \n",
    "        return count\n",
    "uppercasecount(\"file1.txt\")   "
   ]
  },
  {
   "cell_type": "code",
   "execution_count": 84,
   "metadata": {},
   "outputs": [
    {
     "name": "stdout",
     "output_type": "stream",
     "text": [
      "16\n"
     ]
    }
   ],
   "source": [
    "##function to count no of lines\n",
    "def nooflines(filename):\n",
    "    f=open(filename,\"r\")\n",
    "    if f.mode==\"r\":\n",
    "        x=f.read()\n",
    "        lst=x.split(\"\\n\")\n",
    "        return(len(lst))\n",
    "print(nooflines(\"file1.txt\"))"
   ]
  },
  {
   "cell_type": "code",
   "execution_count": 103,
   "metadata": {},
   "outputs": [
    {
     "name": "stdout",
     "output_type": "stream",
     "text": [
      "True\n",
      "False\n"
     ]
    }
   ],
   "source": [
    "#regular expression for indian mbl no\n",
    "#validation for email id\n",
    "#username@omainname.extension\n",
    "import re\n",
    "def phonevalidate(phone):\n",
    "    pattern='^[6-9][0-9]{9}$'\n",
    "    phone=str(phone)\n",
    "    if re.match(pattern,phone):\n",
    "        return True \n",
    "    return False\n",
    "print(phonevalidate(9502616586))    \n",
    "print(phonevalidate(63038816))"
   ]
  },
  {
   "cell_type": "code",
   "execution_count": 116,
   "metadata": {},
   "outputs": [
    {
     "name": "stdout",
     "output_type": "stream",
     "text": [
      "True\n",
      "False\n"
     ]
    }
   ],
   "source": [
    "#first digit 0 case\n",
    "import re\n",
    "def phonevalidate(phone):\n",
    "    pattern='^[6-9][0-9]{9}$|^[0][6-9][0-9]$|[+][9][1][6-9][0-9]{9}$'\n",
    "    phone=str(phone)\n",
    "    if re.match(pattern,phone):\n",
    "         return True \n",
    "    return False\n",
    "print(phonevalidate(9502616586))\n",
    "print(phonevalidate(-95020616586))"
   ]
  },
  {
   "cell_type": "code",
   "execution_count": 125,
   "metadata": {},
   "outputs": [
    {
     "name": "stdout",
     "output_type": "stream",
     "text": [
      "True\n",
      "False\n"
     ]
    }
   ],
   "source": [
    "#validate roll no\n",
    "##152u1a0501\n",
    "def validaterollno(number):\n",
    "    number=str(number)\n",
    "    pattern='^[1][5][2][U][1][A][0][1-9][0-6][0-9]$'\n",
    "    if re.match(pattern,number):\n",
    "        return True\n",
    "    return False\n",
    "print(validaterollno(\"152U1A0555\"))\n",
    "print(validaterollno(\"152U1A0485\"))"
   ]
  },
  {
   "cell_type": "code",
   "execution_count": 129,
   "metadata": {},
   "outputs": [
    {
     "name": "stdout",
     "output_type": "stream",
     "text": [
      "True\n",
      "False\n"
     ]
    }
   ],
   "source": [
    "#email id\n",
    "import re\n",
    "def validateemailid(email):\n",
    "    pattern=\"^[0-9a-z][0-9a-z_.]{4,13}[0-9a-z][@][a-z0-9]{3,18}[.][a-z]{2,4}$\"\n",
    "    if re.match(pattern,email):\n",
    "        return True\n",
    "    return False\n",
    "print(validateemailid(\"anil.1889@gmail.com\"))\n",
    "print(validateemailid(\"sri\"))"
   ]
  },
  {
   "cell_type": "code",
   "execution_count": null,
   "metadata": {},
   "outputs": [],
   "source": [
    "import re\n",
    "def validatepassword(s):\n",
    "          \n",
    "if re.match(pattern,phone):\n",
    "        return True \n",
    "    return False\n",
    "print(phonevalidate(9502616586)) "
   ]
  }
 ],
 "metadata": {
  "kernelspec": {
   "display_name": "Python 3",
   "language": "python",
   "name": "python3"
  },
  "language_info": {
   "codemirror_mode": {
    "name": "ipython",
    "version": 3
   },
   "file_extension": ".py",
   "mimetype": "text/x-python",
   "name": "python",
   "nbconvert_exporter": "python",
   "pygments_lexer": "ipython3",
   "version": "3.7.3"
  }
 },
 "nbformat": 4,
 "nbformat_minor": 2
}
