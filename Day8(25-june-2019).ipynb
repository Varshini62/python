{
 "cells": [
  {
   "cell_type": "code",
   "execution_count": 7,
   "metadata": {},
   "outputs": [
    {
     "name": "stdout",
     "output_type": "stream",
     "text": [
      "item is not found\n"
     ]
    }
   ],
   "source": [
    "##Binary Search\n",
    "def bs(a,lindex,rindex,searchitem):\n",
    "    while(lindex<=rindex):\n",
    "        mindex=lindex+(rindex-rindex)//2\n",
    "        if(a[mindex]==searchitem):\n",
    "            return mindex\n",
    "        if(a[mindex]>searchitem):\n",
    "            rindex=mindex-1\n",
    "        else:\n",
    "            lindex=mindex+1\n",
    "    return -1    \n",
    "list1=[1,4,9,15,25,45,57,88,98]            \n",
    "res=bs(list1,0,8,818)\n",
    "if(res!=-1):\n",
    "    print(\"item is found\")\n",
    "else:\n",
    "    print(\"item is not found\")"
   ]
  },
  {
   "cell_type": "code",
   "execution_count": 4,
   "metadata": {},
   "outputs": [
    {
     "name": "stdout",
     "output_type": "stream",
     "text": [
      "False\n",
      "True\n"
     ]
    }
   ],
   "source": [
    "def ispallindrome(s):\n",
    "    if(s==s[::-1]):\n",
    "        return True\n",
    "    else:\n",
    "        return False\n",
    "print(ispallindrome(\"python\"))\n",
    "print(ispallindrome(\"level\"))"
   ]
  },
  {
   "cell_type": "code",
   "execution_count": 3,
   "metadata": {},
   "outputs": [
    {
     "name": "stdout",
     "output_type": "stream",
     "text": [
      "4\n"
     ]
    }
   ],
   "source": [
    "##count the digits of a number by using string\n",
    "def length(n):\n",
    "    return len((n))\n",
    "print(length(\"1219\"))"
   ]
  },
  {
   "cell_type": "code",
   "execution_count": 7,
   "metadata": {},
   "outputs": [
    {
     "ename": "SyntaxError",
     "evalue": "invalid syntax (<ipython-input-7-9376b5994bae>, line 1)",
     "output_type": "error",
     "traceback": [
      "\u001b[1;36m  File \u001b[1;32m\"<ipython-input-7-9376b5994bae>\"\u001b[1;36m, line \u001b[1;32m1\u001b[0m\n\u001b[1;33m    def count(str)\u001b[0m\n\u001b[1;37m                  ^\u001b[0m\n\u001b[1;31mSyntaxError\u001b[0m\u001b[1;31m:\u001b[0m invalid syntax\n"
     ]
    }
   ],
   "source": [
    "def count(str)\n",
    "\n",
    "list=list[str]\n",
    "return len(list1)\n",
    "count(\"app\")\n",
    "##count=len(list)\n",
    "##list=[1,2,3,4,5]"
   ]
  },
  {
   "cell_type": "code",
   "execution_count": 5,
   "metadata": {},
   "outputs": [
    {
     "name": "stdout",
     "output_type": "stream",
     "text": [
      "1\n",
      "3\n"
     ]
    }
   ],
   "source": [
    "def countuppercase(str):\n",
    "    count=0\n",
    "    lst=list(str)\n",
    "    for x in range(len(lst)):\n",
    "        if ord(lst[x]) >= 65 and ord(lst[x] )<= 90:\n",
    "            count=count+1\n",
    "    return count\n",
    "print(countuppercase(\"Application\"))        \n",
    "print(countuppercase(\"TeST\"))"
   ]
  },
  {
   "cell_type": "code",
   "execution_count": 18,
   "metadata": {},
   "outputs": [
    {
     "name": "stdout",
     "output_type": "stream",
     "text": [
      "1889None\n"
     ]
    }
   ],
   "source": [
    "def printDigits(str):\n",
    "    \n",
    "    lst=list(str)\n",
    "    for x in range(len(lst)):\n",
    "        if ord(lst[x]) >= 48 and ord(lst[x]) <= 57:\n",
    "            print(lst[x],end=\"\")\n",
    "\n",
    "print(printDigits(\"Application1889\"))"
   ]
  },
  {
   "cell_type": "code",
   "execution_count": 16,
   "metadata": {},
   "outputs": [
    {
     "data": {
      "text/plain": [
       "16"
      ]
     },
     "execution_count": 16,
     "metadata": {},
     "output_type": "execute_result"
    }
   ],
   "source": [
    "def sumofdigits(str):\n",
    "    sum=0\n",
    "    lst=list(str)\n",
    "\n",
    "    for x in range(len(lst)):\n",
    "        if ord(lst[x]) >= 48 and ord(lst[x]) <= 57:\n",
    "            if(ord(lst[x])%2==0):\n",
    "                \n",
    "               sum=sum+ord(lst[x])-48\n",
    "    return sum\n",
    "sumofdigits(\"Application1889\")"
   ]
  },
  {
   "cell_type": "code",
   "execution_count": null,
   "metadata": {},
   "outputs": [],
   "source": []
  }
 ],
 "metadata": {
  "kernelspec": {
   "display_name": "Python 3",
   "language": "python",
   "name": "python3"
  },
  "language_info": {
   "codemirror_mode": {
    "name": "ipython",
    "version": 3
   },
   "file_extension": ".py",
   "mimetype": "text/x-python",
   "name": "python",
   "nbconvert_exporter": "python",
   "pygments_lexer": "ipython3",
   "version": "3.7.3"
  }
 },
 "nbformat": 4,
 "nbformat_minor": 2
}
