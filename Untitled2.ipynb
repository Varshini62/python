{
 "cells": [
  {
   "cell_type": "code",
   "execution_count": 6,
   "metadata": {},
   "outputs": [
    {
     "name": "stdout",
     "output_type": "stream",
     "text": [
      "!! !!!!!! "
     ]
    }
   ],
   "source": [
    "def linearexmp2(a,searchitem):\n",
    "    for i in range(len(a)):\n",
    "        if a[i]==searchitem:\n",
    "            j=0\n",
    "            while(j!=i):\n",
    "                print(\"!\",end=\"\")\n",
    "                j=j+1\n",
    "            print(end=\" \")\n",
    "a=[1,2,3,4,5,6,3]\n",
    "linearexmp2(a,3)"
   ]
  },
  {
   "cell_type": "code",
   "execution_count": 15,
   "metadata": {},
   "outputs": [
    {
     "name": "stdout",
     "output_type": "stream",
     "text": [
      "45\n"
     ]
    }
   ],
   "source": [
    "def exmp3(a):\n",
    "    for i in range(len(a)):\n",
    "        sum=0\n",
    "        if a[i]%3==0 and a[i]%5==0:\n",
    "            \n",
    "            sum=sum+a[i]\n",
    "    return sum\n",
    "a=[1,2,3,4,5,6,7,8,15,30,45]\n",
    "print(exmp3(a))"
   ]
  },
  {
   "cell_type": "code",
   "execution_count": 14,
   "metadata": {},
   "outputs": [
    {
     "name": "stdout",
     "output_type": "stream",
     "text": [
      "0\n"
     ]
    }
   ],
   "source": [
    "def exmp(a):\n",
    "    for i in range(len(a)):\n",
    "        sum=0\n",
    "        if a[i]%3==0 and a[i]%5==0:\n",
    "            sum=sum+a[i]\n",
    "    return sum\n",
    "a=[1,3,5,7]\n",
    "print(exmp(a))\n",
    "        "
   ]
  },
  {
   "cell_type": "code",
   "execution_count": null,
   "metadata": {},
   "outputs": [],
   "source": []
  }
 ],
 "metadata": {
  "kernelspec": {
   "display_name": "Python 3",
   "language": "python",
   "name": "python3"
  },
  "language_info": {
   "codemirror_mode": {
    "name": "ipython",
    "version": 3
   },
   "file_extension": ".py",
   "mimetype": "text/x-python",
   "name": "python",
   "nbconvert_exporter": "python",
   "pygments_lexer": "ipython3",
   "version": "3.7.3"
  }
 },
 "nbformat": 4,
 "nbformat_minor": 2
}
