{
 "cells": [
  {
   "cell_type": "code",
   "execution_count": 1,
   "metadata": {},
   "outputs": [],
   "source": [
    "def linearexmp(a,searchitem):\n",
    "    for i in range(len(a)):\n",
    "        if(a[i]==searchitem):\n",
    "            print(i,end=\" \")\n",
    "            a=[1,2,3,4,5,3]\n",
    "            linearexmp(a,3)"
   ]
  },
  {
   "cell_type": "code",
   "execution_count": null,
   "metadata": {},
   "outputs": [],
   "source": [
    "def numberforlistconverstion(n):\n",
    "    list=[]\n",
    "    while(n!=0):\n",
    "        r=n%10\n",
    "        list.append(r)\n",
    "        n=n/10\n",
    "    list.reverse()\n",
    "    "
   ]
  }
 ],
 "metadata": {
  "kernelspec": {
   "display_name": "Python 3",
   "language": "python",
   "name": "python3"
  },
  "language_info": {
   "codemirror_mode": {
    "name": "ipython",
    "version": 3
   },
   "file_extension": ".py",
   "mimetype": "text/x-python",
   "name": "python",
   "nbconvert_exporter": "python",
   "pygments_lexer": "ipython3",
   "version": "3.7.3"
  }
 },
 "nbformat": 4,
 "nbformat_minor": 2
}
